{
 "cells": [
  {
   "cell_type": "code",
   "execution_count": null,
   "metadata": {},
   "outputs": [],
   "source": [
    "a = [1, 2, 3] # list\n",
    "b = (1, 2, 3) # tuple\n",
    "print(a)\n",
    "print(b)"
   ]
  },
  {
   "cell_type": "code",
   "execution_count": null,
   "metadata": {},
   "outputs": [],
   "source": [
    "print(a[0], b[0])\n",
    "print(a[:2], b[:2])"
   ]
  },
  {
   "cell_type": "code",
   "execution_count": null,
   "metadata": {},
   "outputs": [],
   "source": [
    "a[0] = 4 # list is mutable, items can be changed\n",
    "print(a)"
   ]
  },
  {
   "cell_type": "code",
   "execution_count": null,
   "metadata": {},
   "outputs": [],
   "source": [
    "b[0] = 4 # error because tuple is immutable, i.e. items cannot be changed\n",
    "print(b)"
   ]
  },
  {
   "cell_type": "code",
   "execution_count": null,
   "metadata": {},
   "outputs": [],
   "source": [
    "def increase(a, b):\n",
    "    a += 1\n",
    "    b += 1\n",
    "    return a, b # a, b will be returned as a tuple\n",
    "\n",
    "a, b = increase(4, 0) # unpacking the tuple into a and b\n",
    "print(a, b)\n",
    "c = increase(4, 0)\n",
    "print(c)"
   ]
  },
  {
   "cell_type": "code",
   "execution_count": null,
   "metadata": {},
   "outputs": [],
   "source": [
    "def increase(*items):\n",
    "    print(type(items)) # all items will be packed into a tuple\n",
    "    new_items = [i + 1 for i in items] # list comprehension\n",
    "    return new_items\n",
    "    # for i in range(len(items)):\n",
    "    #     items[i] += 1\n",
    "    # return items\n",
    "\n",
    "print(increase(1))\n",
    "print(increase(1, 2))\n",
    "print(increase())"
   ]
  },
  {
   "cell_type": "code",
   "execution_count": null,
   "metadata": {},
   "outputs": [],
   "source": [
    "# Tuple in enumerate\n",
    "names = [\"John\", \"Mary\", \"Peter\", \"Jane\"]\n",
    "for i in range(len(names)):\n",
    "    print(i + 1, names[i])   # using index to get number\n",
    "for n in names:\n",
    "    print(n)   # using item to get name\n",
    "for i, n in enumerate(names):\n",
    "    print(i + 1, n)  # using index and item to get number and name"
   ]
  },
  {
   "cell_type": "code",
   "execution_count": null,
   "metadata": {},
   "outputs": [],
   "source": [
    "students = [(\"John\", 20), (\"Mary\", 21), (\"Peter\", 19), (\"Jane\", 22)]\n",
    "for i in range(len(students)):\n",
    "    print(i + 1, students[i][0], students[i][1])\n",
    "\n",
    "for i, s in enumerate(students):\n",
    "    print(i + 1, s[0], s[1])"
   ]
  },
  {
   "cell_type": "code",
   "execution_count": 16,
   "metadata": {},
   "outputs": [
    {
     "name": "stdout",
     "output_type": "stream",
     "text": [
      "[97, 56, 35, 17, 86, 76, 30, 10, 90, 20]\n"
     ]
    }
   ],
   "source": [
    "# General syntax of list comprehension\n",
    "# [expression for item in iterable if condition]\n",
    "# [expression for item in iterable]\n",
    "import random as rd\n",
    "numbers = [rd.randint(10, 100) for i in range(10)]\n",
    "print(numbers)"
   ]
  },
  {
   "cell_type": "code",
   "execution_count": 19,
   "metadata": {},
   "outputs": [
    {
     "name": "stdout",
     "output_type": "stream",
     "text": [
      "[7, 6, 5, 7, 6, 6, 0, 0, 0, 0]\n",
      "[9, 5, 3, 1, 8, 7, 3, 1, 9, 2]\n",
      "[-97, -56, -35, -17, -86, -76, -30, -10, -90, -20]\n"
     ]
    }
   ],
   "source": [
    "digits = [n % 10 for n in numbers]\n",
    "print(digits)\n",
    "# Todo: get the first digit of each number in numbers\n",
    "first_digits = [n // 10 for n in numbers]\n",
    "print(first_digits)\n",
    "# Todo: create a list of negative numbers from numbers\n",
    "negatives = [-n for n in numbers]\n",
    "print(negatives)"
   ]
  },
  {
   "cell_type": "code",
   "execution_count": 21,
   "metadata": {},
   "outputs": [
    {
     "name": "stdout",
     "output_type": "stream",
     "text": [
      "['John', 'Mary', 'Peter', 'Jane']\n",
      "['Lennon', 'Watson', 'Parker', 'Doe']\n"
     ]
    }
   ],
   "source": [
    "names = ['John Yoko Lennon', 'Mary Jane Watson', 'Peter Parker', 'Jane Doe']\n",
    "# Todo: get first names\n",
    "first_names = [n.split()[0] for n in names]\n",
    "print(first_names)\n",
    "# Todo: get last names\n",
    "last_names = [n.split()[-1] for n in names]\n",
    "print(last_names)"
   ]
  }
 ],
 "metadata": {
  "kernelspec": {
   "display_name": "Python 3",
   "language": "python",
   "name": "python3"
  },
  "language_info": {
   "codemirror_mode": {
    "name": "ipython",
    "version": 3
   },
   "file_extension": ".py",
   "mimetype": "text/x-python",
   "name": "python",
   "nbconvert_exporter": "python",
   "pygments_lexer": "ipython3",
   "version": "3.9.12"
  },
  "orig_nbformat": 4
 },
 "nbformat": 4,
 "nbformat_minor": 2
}
