{
 "cells": [
  {
   "cell_type": "code",
   "execution_count": 2,
   "metadata": {},
   "outputs": [
    {
     "name": "stdout",
     "output_type": "stream",
     "text": [
      "Not found\n"
     ]
    }
   ],
   "source": [
    "words = {'hello': 'xin chao', 'bye': 'tam biet', 'good': 'tot', 'bad': 'xau'}\n",
    "w = input('Enter a word: ')\n",
    "if w in words:\n",
    "    print(words[w])\n",
    "else:\n",
    "    print('Not found')"
   ]
  },
  {
   "cell_type": "code",
   "execution_count": 3,
   "metadata": {},
   "outputs": [
    {
     "name": "stdout",
     "output_type": "stream",
     "text": [
      "{'hello': 'xin chao', 'bye': 'tam biet', 'good': 'tot', 'bad': 'xau', 'h': 'j'}\n"
     ]
    }
   ],
   "source": [
    "w = input('Enter a new word: ')\n",
    "if w in words:\n",
    "    print(f'{w} is already in the dictionary')\n",
    "else:\n",
    "    words[w] = input('Enter the meaning: ')\n",
    "print(words)"
   ]
  },
  {
   "cell_type": "code",
   "execution_count": 5,
   "metadata": {},
   "outputs": [
    {
     "name": "stdout",
     "output_type": "stream",
     "text": [
      "{'hello': 'xin chao', 'bye': 'tam biet', 'good': 'rat tot', 'bad': 'xau', 'h': 'j'}\n"
     ]
    }
   ],
   "source": [
    "w = input('Enter word to change: ')\n",
    "if w in words:\n",
    "    meaning = input('Enter the new meaning: ')\n",
    "    words[w] = meaning # change the meaning\n",
    "else:\n",
    "    print('Not found')\n",
    "print(words)"
   ]
  },
  {
   "cell_type": "code",
   "execution_count": 6,
   "metadata": {},
   "outputs": [
    {
     "name": "stdout",
     "output_type": "stream",
     "text": [
      "{'hello': 'xin chao', 'bye': 'tam biet', 'good': 'rat tot', 'bad': 'xau'}\n"
     ]
    }
   ],
   "source": [
    "w = input('Enter a word to delete: ')\n",
    "if w in words:\n",
    "    del words[w]\n",
    "else:\n",
    "    print('Not found')\n",
    "print(words)"
   ]
  }
 ],
 "metadata": {
  "kernelspec": {
   "display_name": "Python 3",
   "language": "python",
   "name": "python3"
  },
  "language_info": {
   "codemirror_mode": {
    "name": "ipython",
    "version": 3
   },
   "file_extension": ".py",
   "mimetype": "text/x-python",
   "name": "python",
   "nbconvert_exporter": "python",
   "pygments_lexer": "ipython3",
   "version": "3.9.12"
  },
  "orig_nbformat": 4
 },
 "nbformat": 4,
 "nbformat_minor": 2
}
